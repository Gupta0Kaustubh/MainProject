{
 "cells": [
  {
   "cell_type": "code",
   "execution_count": 1,
   "id": "9371a134",
   "metadata": {},
   "outputs": [],
   "source": [
    "import pandas as pd\n",
    "import pyodbc"
   ]
  },
  {
   "cell_type": "code",
   "execution_count": 2,
   "id": "4338bf07",
   "metadata": {},
   "outputs": [],
   "source": [
    "from sqlalchemy import create_engine\n",
    "from sqlalchemy.engine import URL"
   ]
  },
  {
   "cell_type": "code",
   "execution_count": 3,
   "id": "df594f36",
   "metadata": {},
   "outputs": [],
   "source": [
    "SERVER_NAME = 'DESKTOP-0UABFVU'\n",
    "DATABASE_NAME = 'MainProject'"
   ]
  },
  {
   "cell_type": "code",
   "execution_count": 4,
   "id": "5338a0cd",
   "metadata": {},
   "outputs": [],
   "source": [
    "connection_string = f\"mssql+pyodbc://{SERVER_NAME}/{DATABASE_NAME}?trusted_connection=yes&driver=ODBC+Driver+17+for+SQL+Server\"\n",
    "engine = create_engine(connection_string)"
   ]
  },
  {
   "cell_type": "code",
   "execution_count": 5,
   "id": "fb19798e",
   "metadata": {},
   "outputs": [],
   "source": [
    "table_name = 'TotalInfo'\n",
    "query = f\"select * from {table_name}\"\n",
    "\n",
    "# Execute the query and load result into a DataFrame\n",
    "result_df = pd.read_sql_query(query, engine)\n",
    "\n",
    "result_df.to_excel('TotalInfo.xlsx', index=False)"
   ]
  },
  {
   "cell_type": "code",
   "execution_count": null,
   "id": "d891f797",
   "metadata": {},
   "outputs": [],
   "source": []
  }
 ],
 "metadata": {
  "kernelspec": {
   "display_name": "Python 3 (ipykernel)",
   "language": "python",
   "name": "python3"
  },
  "language_info": {
   "codemirror_mode": {
    "name": "ipython",
    "version": 3
   },
   "file_extension": ".py",
   "mimetype": "text/x-python",
   "name": "python",
   "nbconvert_exporter": "python",
   "pygments_lexer": "ipython3",
   "version": "3.11.4"
  }
 },
 "nbformat": 4,
 "nbformat_minor": 5
}
