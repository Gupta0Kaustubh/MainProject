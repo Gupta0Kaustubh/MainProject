{
 "cells": [
  {
   "cell_type": "code",
   "execution_count": 1,
   "id": "9371a134",
   "metadata": {},
   "outputs": [
    {
     "name": "stderr",
     "output_type": "stream",
     "text": [
      "C:\\Users\\KaustubhGupta\\AppData\\Local\\Temp\\ipykernel_17584\\616162634.py:1: DeprecationWarning: \n",
      "Pyarrow will become a required dependency of pandas in the next major release of pandas (pandas 3.0),\n",
      "(to allow more performant data types, such as the Arrow string type, and better interoperability with other libraries)\n",
      "but was not found to be installed on your system.\n",
      "If this would cause problems for you,\n",
      "please provide us feedback at https://github.com/pandas-dev/pandas/issues/54466\n",
      "        \n",
      "  import pandas as pd\n"
     ]
    }
   ],
   "source": [
    "import pandas as pd\n",
    "import pyodbc"
   ]
  },
  {
   "cell_type": "code",
   "execution_count": 2,
   "id": "4338bf07",
   "metadata": {},
   "outputs": [],
   "source": [
    "from sqlalchemy import create_engine\n",
    "from sqlalchemy.engine import URL"
   ]
  },
  {
   "cell_type": "code",
   "execution_count": 3,
   "id": "df594f36",
   "metadata": {},
   "outputs": [],
   "source": [
    "SERVER_NAME = 'DESKTOP-J6NGJ2S'\n",
    "DATABASE_NAME = 'Main_Project'"
   ]
  },
  {
   "cell_type": "code",
   "execution_count": 4,
   "id": "5338a0cd",
   "metadata": {},
   "outputs": [],
   "source": [
    "connection_string = f\"mssql+pyodbc://{SERVER_NAME}/{DATABASE_NAME}?trusted_connection=yes&driver=ODBC+Driver+17+for+SQL+Server\"\n",
    "engine = create_engine(connection_string)"
   ]
  },
  {
   "cell_type": "code",
   "execution_count": 5,
   "id": "fb19798e",
   "metadata": {},
   "outputs": [],
   "source": [
    "table_name = 'dbt_mart.TotalInfo'\n",
    "query = f\"select * from {table_name}\"\n",
    "\n",
    "# Execute the query and load result into a DataFrame\n",
    "result_df = pd.read_sql_query(query, engine)\n",
    "\n",
    "result_df.to_excel('TotalInfo.xlsx', index=False)"
   ]
  },
  {
   "cell_type": "code",
   "execution_count": null,
   "id": "d891f797",
   "metadata": {},
   "outputs": [],
   "source": []
  }
 ],
 "metadata": {
  "kernelspec": {
   "display_name": "Python 3 (ipykernel)",
   "language": "python",
   "name": "python3"
  },
  "language_info": {
   "codemirror_mode": {
    "name": "ipython",
    "version": 3
   },
   "file_extension": ".py",
   "mimetype": "text/x-python",
   "name": "python",
   "nbconvert_exporter": "python",
   "pygments_lexer": "ipython3",
   "version": "3.10.0"
  }
 },
 "nbformat": 4,
 "nbformat_minor": 5
}
