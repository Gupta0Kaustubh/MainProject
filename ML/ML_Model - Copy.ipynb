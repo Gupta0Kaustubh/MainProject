{
 "cells": [
  {
   "cell_type": "code",
   "execution_count": 25,
   "id": "1819ee48",
   "metadata": {},
   "outputs": [
    {
     "name": "stdout",
     "output_type": "stream",
     "text": [
      "Connected to Snowflake successfully!\n",
      "Trained model saved as random_forest_regressor_model.pkl.\n"
     ]
    }
   ],
   "source": [
    "import snowflake.connector\n",
    "import pandas as pd\n",
    "from sklearn.model_selection import train_test_split\n",
    "from sklearn.metrics import mean_squared_error\n",
    "from sklearn.preprocessing import LabelEncoder\n",
    "from sklearn.ensemble import RandomForestRegressor\n",
    "from sklearn.impute import SimpleImputer\n",
    "import pickle\n",
    "\n",
    "try:\n",
    "    # Connect to Snowflake using environment variables\n",
    "    conn = snowflake.connector.connect(\n",
    "        user=\"kaustubh\",\n",
    "        password=\"@@Kaustubh123\",\n",
    "        account=\"rh57156.central-india.azure\",\n",
    "        warehouse=\"COMPUTE_WH\",\n",
    "        database=\"Main_Project\",\n",
    "        schema=\"Main_Project_Schema_Mart\",\n",
    "        role=\"ACCOUNTADMIN\"\n",
    "    )\n",
    "\n",
    "    # Print connection success message\n",
    "    print(\"Connected to Snowflake successfully!\")\n",
    "\n",
    "    # Now, you can perform further operations with snowflake_conn\n",
    "except snowflake.connector.errors.DatabaseError as e:\n",
    "    # Print connection failure message\n",
    "    print(f\"Failed to connect to Snowflake: {e}\")\n",
    "\n",
    "cur = conn.cursor()\n",
    "\n",
    "# Execute SQL query to fetch data\n",
    "sql_query = f\"SELECT * FROM TOTALINFO\"\n",
    "cur.execute(sql_query)\n",
    "\n",
    "# Fetch data into a pandas DataFrame\n",
    "data = cur.fetchall()\n",
    "columns = [col[0] for col in cur.description]\n",
    "df = pd.DataFrame(data, columns=columns)\n",
    "\n",
    "# Close cursor and connection\n",
    "cur.close()\n",
    "conn.close()\n",
    "\n",
    "# Preprocess the DataFrame as needed\n",
    "df['SCOREACHIEVEDINQUIZ'] = df['SCOREACHIEVEDINQUIZ'].fillna(df['SCOREACHIEVEDINQUIZ'].mean()).astype(int)\n",
    "df['ASSESSMENT_COMPLETION_TIME_IN_HOURS'] = df['ASSESSMENT_COMPLETION_TIME_IN_HOURS'].fillna(df['ASSESSMENT_COMPLETION_TIME_IN_HOURS'].mean()).astype(int)\n",
    "df['SPECIALIZATION'] = df['SPECIALIZATION'].str.replace(r\"[\\[\\],]\", '', regex=True)\n",
    "df1 = df[['GENDER', 'SPECIALIZATION', 'EXPERIENCE', 'DIFFICULTYLEVEL', 'TRAININGNAME', 'OPTIMIZEDDURATION', 'SCOREACHIEVEDINQUIZ', 'ASSESSMENT_COMPLETION_TIME_IN_HOURS']]\n",
    "\n",
    "# Separate features and target variable\n",
    "X = df1[['GENDER', 'SPECIALIZATION', 'EXPERIENCE', 'DIFFICULTYLEVEL', 'TRAININGNAME', 'OPTIMIZEDDURATION']]\n",
    "y = df1['ASSESSMENT_COMPLETION_TIME_IN_HOURS']\n",
    "\n",
    "# Encode categorical variables\n",
    "X_encoded = pd.get_dummies(X)\n",
    "\n",
    "# Handle NaN values\n",
    "imputer = SimpleImputer(strategy='mean')\n",
    "X_imputed = pd.DataFrame(imputer.fit_transform(X_encoded), columns=X_encoded.columns)\n",
    "\n",
    "# Train the Random Forest Regressor model\n",
    "random_forest_regressor = RandomForestRegressor()\n",
    "random_forest_regressor.fit(X_imputed, y)\n",
    "\n",
    "# Save the trained model as a pickle file\n",
    "filename = 'random_forest_regressor_model.pkl'\n",
    "with open(filename, 'wb') as file:\n",
    "    pickle.dump(random_forest_regressor, file)\n",
    "\n",
    "print(f\"Trained model saved as {filename}.\")\n"
   ]
  },
  {
   "cell_type": "code",
   "execution_count": null,
   "id": "faf26e4e",
   "metadata": {},
   "outputs": [],
   "source": []
  }
 ],
 "metadata": {
  "kernelspec": {
   "display_name": "Python 3 (ipykernel)",
   "language": "python",
   "name": "python3"
  },
  "language_info": {
   "codemirror_mode": {
    "name": "ipython",
    "version": 3
   },
   "file_extension": ".py",
   "mimetype": "text/x-python",
   "name": "python",
   "nbconvert_exporter": "python",
   "pygments_lexer": "ipython3",
   "version": "3.11.4"
  }
 },
 "nbformat": 4,
 "nbformat_minor": 5
}
