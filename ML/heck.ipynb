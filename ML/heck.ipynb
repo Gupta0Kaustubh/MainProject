{
 "cells": [
  {
   "cell_type": "code",
   "execution_count": 48,
   "id": "1267d04c",
   "metadata": {},
   "outputs": [
    {
     "name": "stdout",
     "output_type": "stream",
     "text": [
      "Connected to Snowflake successfully!\n",
      "Mean Squared Error: 220.31429262394195\n",
      "R-squared (Accuracy for regression): 0.16512314881391077\n",
      "KNN regressor model saved as 'knn_regressor_model.pkl'\n"
     ]
    }
   ],
   "source": [
    "import pandas as pd\n",
    "import snowflake.connector\n",
    "from sklearn.model_selection import train_test_split\n",
    "from sklearn.preprocessing import StandardScaler\n",
    "from sklearn.neighbors import KNeighborsRegressor\n",
    "from sklearn.impute import SimpleImputer\n",
    "from sklearn.metrics import mean_squared_error, r2_score\n",
    "import pickle\n",
    "\n",
    "try:\n",
    "    # Connect to Snowflake using environment variables\n",
    "    conn = snowflake.connector.connect(\n",
    "        user=\"kaustubh\",\n",
    "        password=\"@@Kaustubh123\",\n",
    "        account=\"rh57156.central-india.azure\",\n",
    "        warehouse=\"COMPUTE_WH\",\n",
    "        database=\"Main_Project\",\n",
    "        schema=\"Main_Project_Schema_Mart\",\n",
    "        role=\"ACCOUNTADMIN\"\n",
    "    )\n",
    "\n",
    "    # Print connection success message\n",
    "    print(\"Connected to Snowflake successfully!\")\n",
    "\n",
    "except snowflake.connector.errors.DatabaseError as e:\n",
    "    # Print connection failure message\n",
    "    print(f\"Failed to connect to Snowflake: {e}\")\n",
    "\n",
    "# Fetch data into a pandas DataFrame\n",
    "cur = conn.cursor()\n",
    "sql_query = f\"SELECT * FROM TOTALINFO\"\n",
    "cur.execute(sql_query)\n",
    "data = cur.fetchall()\n",
    "columns = [col[0] for col in cur.description]\n",
    "df = pd.DataFrame(data, columns=columns)\n",
    "cur.close()\n",
    "conn.close()\n",
    "\n",
    "# Preprocess the DataFrame\n",
    "df['SCOREACHIEVEDINQUIZ'] = df['SCOREACHIEVEDINQUIZ'].fillna(df['SCOREACHIEVEDINQUIZ'].mean()).astype(int)\n",
    "df['ASSESSMENT_COMPLETION_TIME_IN_HOURS'] = df['ASSESSMENT_COMPLETION_TIME_IN_HOURS'].fillna(df['ASSESSMENT_COMPLETION_TIME_IN_HOURS'].mean()).astype(int)\n",
    "df['SPECIALIZATION'] = df['SPECIALIZATION'].str.replace(r\"[\\[\\],]\", '', regex=True)\n",
    "df1 = df[['EXPERIENCE', 'OPTIMIZEDDURATION', 'SCOREACHIEVEDINQUIZ', 'ASSESSMENT_COMPLETION_TIME_IN_HOURS']]\n",
    "\n",
    "# Separate features and target variable\n",
    "X = df1[['EXPERIENCE', 'OPTIMIZEDDURATION']]\n",
    "y = df1['SCOREACHIEVEDINQUIZ']\n",
    "\n",
    "# Impute missing values in X using mean imputation\n",
    "imputer = SimpleImputer(strategy='mean')\n",
    "X_imputed = imputer.fit_transform(X)\n",
    "X_imputed = pd.DataFrame(X_imputed, columns=X.columns)\n",
    "\n",
    "# Split data into training and testing sets\n",
    "X_train, X_test, y_train, y_test = train_test_split(X_imputed, y, test_size=0.2, random_state=42)\n",
    "\n",
    "# Scale features\n",
    "scaler = StandardScaler()\n",
    "X_train_scaled = scaler.fit_transform(X_train)\n",
    "X_test_scaled = scaler.transform(X_test)\n",
    "\n",
    "# Initialize KNN regressor\n",
    "knn = KNeighborsRegressor(n_neighbors=5)\n",
    "\n",
    "# Fit the model\n",
    "knn.fit(X_train_scaled, y_train)\n",
    "\n",
    "# Make predictions\n",
    "y_pred = knn.predict(X_test_scaled)\n",
    "\n",
    "# Calculate mean squared error (MSE)\n",
    "mse = mean_squared_error(y_test, y_pred)\n",
    "\n",
    "# Calculate R-squared (accuracy for regression)\n",
    "r2 = r2_score(y_test, y_pred)\n",
    "\n",
    "print(f\"Mean Squared Error: {mse}\")\n",
    "print(f\"R-squared (Accuracy for regression): {r2}\")\n",
    "\n",
    "# Save the trained model using pickle\n",
    "with open('knn_regressor_model1.pkl', 'wb') as file:\n",
    "    pickle.dump(knn, file)\n",
    "\n",
    "print(\"KNN regressor model saved as 'knn_regressor_model.pkl'\")\n"
   ]
  },
  {
   "cell_type": "code",
   "execution_count": 43,
   "id": "0e07b8ab",
   "metadata": {},
   "outputs": [
    {
     "name": "stdout",
     "output_type": "stream",
     "text": [
      "Predicted ASSESSMENT_COMPLETION_TIME_IN_HOURS: [29.]\n"
     ]
    },
    {
     "name": "stderr",
     "output_type": "stream",
     "text": [
      "C:\\Users\\kaust\\AppData\\Local\\Programs\\Python\\Python311\\Lib\\site-packages\\sklearn\\base.py:457: UserWarning: X has feature names, but KNeighborsRegressor was fitted without feature names\n",
      "  warnings.warn(\n"
     ]
    }
   ],
   "source": [
    "import pandas as pd\n",
    "from sklearn.impute import SimpleImputer\n",
    "from xgboost import XGBRegressor\n",
    "\n",
    "# Dummy data\n",
    "dummy_data = {\n",
    "    'EXPERIENCE': [5],\n",
    "    'OPTIMIZEDDURATION': [8]\n",
    "}\n",
    "\n",
    "# Create a DataFrame from the dummy data\n",
    "dummy_df = pd.DataFrame(dummy_data)\n",
    "\n",
    "# Preprocess the dummy DataFrame\n",
    "# Fill missing values in numeric columns with the mean\n",
    "numeric_cols = ['EXPERIENCE', 'OPTIMIZEDDURATION']\n",
    "imputer = SimpleImputer(strategy='mean')\n",
    "dummy_df[numeric_cols] = imputer.fit_transform(dummy_df[numeric_cols])\n",
    "\n",
    "\n",
    "# Reorder columns to match the trained model's input\n",
    "dummy_df = dummy_df.reindex(columns=X.columns, fill_value=0)\n",
    "\n",
    "# Make predictions using the trained XGBoost regressor\n",
    "y_pred_dummy = knn.predict(dummy_df)\n",
    "\n",
    "print(\"Predicted ASSESSMENT_COMPLETION_TIME_IN_HOURS:\", y_pred_dummy)\n",
    "\n"
   ]
  },
  {
   "cell_type": "code",
   "execution_count": null,
   "id": "6cfdea88",
   "metadata": {},
   "outputs": [],
   "source": []
  }
 ],
 "metadata": {
  "kernelspec": {
   "display_name": "Python 3 (ipykernel)",
   "language": "python",
   "name": "python3"
  },
  "language_info": {
   "codemirror_mode": {
    "name": "ipython",
    "version": 3
   },
   "file_extension": ".py",
   "mimetype": "text/x-python",
   "name": "python",
   "nbconvert_exporter": "python",
   "pygments_lexer": "ipython3",
   "version": "3.11.4"
  }
 },
 "nbformat": 4,
 "nbformat_minor": 5
}
